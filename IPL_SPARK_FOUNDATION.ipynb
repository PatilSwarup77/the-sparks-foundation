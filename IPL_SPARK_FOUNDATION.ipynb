{
 "cells": [
  {
   "cell_type": "code",
   "execution_count": null,
   "id": "d3bd1a77",
   "metadata": {},
   "outputs": [],
   "source": [
    "import pandas as pd\n",
    "import numpy as np"
   ]
  },
  {
   "cell_type": "code",
   "execution_count": null,
   "id": "508a0c19",
   "metadata": {},
   "outputs": [],
   "source": [
    "match = pd.read_csv('matches.csv')"
   ]
  },
  {
   "cell_type": "code",
   "execution_count": null,
   "id": "1ef1b4f4",
   "metadata": {},
   "outputs": [],
   "source": [
    "delivery = pd.read_csv('deliveries.csv')"
   ]
  },
  {
   "cell_type": "code",
   "execution_count": null,
   "id": "d87cec83",
   "metadata": {},
   "outputs": [],
   "source": [
    "match.head()"
   ]
  },
  {
   "cell_type": "code",
   "execution_count": null,
   "id": "3a76639c",
   "metadata": {},
   "outputs": [],
   "source": [
    "match.shape"
   ]
  },
  {
   "cell_type": "code",
   "execution_count": null,
   "id": "bfffc99a",
   "metadata": {},
   "outputs": [],
   "source": [
    "delivery.head()"
   ]
  },
  {
   "cell_type": "code",
   "execution_count": null,
   "id": "91cce9c8",
   "metadata": {},
   "outputs": [],
   "source": [
    "delivery.shape"
   ]
  },
  {
   "cell_type": "code",
   "execution_count": null,
   "id": "7d1ed5b0",
   "metadata": {},
   "outputs": [],
   "source": [
    "total_score_df=delivery.groupby(['match_id','inning']).sum()['total_runs'].reset_index()"
   ]
  },
  {
   "cell_type": "code",
   "execution_count": null,
   "id": "249020a6",
   "metadata": {},
   "outputs": [],
   "source": []
  },
  {
   "cell_type": "code",
   "execution_count": null,
   "id": "faf9eb94",
   "metadata": {},
   "outputs": [],
   "source": [
    "total_score_df"
   ]
  },
  {
   "cell_type": "code",
   "execution_count": null,
   "id": "b583ff15",
   "metadata": {},
   "outputs": [],
   "source": [
    " total_score_df[total_score_df['inning']== 1]"
   ]
  },
  {
   "cell_type": "code",
   "execution_count": null,
   "id": "ee38e6c8",
   "metadata": {},
   "outputs": [],
   "source": [
    "total_score_df= total_score_df[total_score_df['inning']== 1]"
   ]
  },
  {
   "cell_type": "code",
   "execution_count": null,
   "id": "fe55bc1d",
   "metadata": {},
   "outputs": [],
   "source": [
    "match_df=match.merge(total_score_df[['match_id','total_runs']],left_on='id',right_on='match_id')"
   ]
  },
  {
   "cell_type": "code",
   "execution_count": null,
   "id": "46c7a808",
   "metadata": {},
   "outputs": [],
   "source": [
    "match_df"
   ]
  },
  {
   "cell_type": "code",
   "execution_count": null,
   "id": "49e3502a",
   "metadata": {},
   "outputs": [],
   "source": [
    "match_df.shape"
   ]
  },
  {
   "cell_type": "code",
   "execution_count": null,
   "id": "1c430d77",
   "metadata": {},
   "outputs": [],
   "source": [
    "match_df['team1'].unique()"
   ]
  },
  {
   "cell_type": "code",
   "execution_count": null,
   "id": "1308c1db",
   "metadata": {},
   "outputs": [],
   "source": [
    "team=[ 'Sunrisers Hyderabad',\n",
    "       'Mumbai Indians', \n",
    "       'Kolkata Knight Riders',\n",
    "       'Kings XI Punjab',\n",
    "       'Chennai Super Kings',\n",
    "       'Delhi Capitals',\n",
    "       'Rajasthan Royals'\n",
    "    \n",
    "]"
   ]
  },
  {
   "cell_type": "code",
   "execution_count": null,
   "id": "9b7c5695",
   "metadata": {},
   "outputs": [],
   "source": [
    "match_df['team1']=match_df['team1'].str.replace('Delhi Deredevils','Delhi Capitals')\n",
    "match_df['team2']=match_df['team2'].str.replace('Delhi Deredevils','Delhi Capitals')\n",
    "\n",
    "match_df['team1']=match_df['team1'].str.replace('Deccan Chargers','Sunrisers Hyderabad')\n",
    "match_df['team2']=match_df['team2'].str.replace('Deccan Chargers','Sunrisers Hyderabad')"
   ]
  },
  {
   "cell_type": "code",
   "execution_count": null,
   "id": "61d26c94",
   "metadata": {},
   "outputs": [],
   "source": [
    "match_df=match_df[match_df['team1'].isin(team)]\n",
    "match_df=match_df[match_df['team2'].isin(team)]"
   ]
  },
  {
   "cell_type": "code",
   "execution_count": null,
   "id": "d43bb7b5",
   "metadata": {},
   "outputs": [],
   "source": [
    "match_df.shape"
   ]
  },
  {
   "cell_type": "code",
   "execution_count": null,
   "id": "0d9de66d",
   "metadata": {},
   "outputs": [],
   "source": [
    "match_df['dl_applied'].value_counts()"
   ]
  },
  {
   "cell_type": "code",
   "execution_count": null,
   "id": "1f16a968",
   "metadata": {},
   "outputs": [],
   "source": [
    "match_df = match_df[match_df['dl_applied']==0]"
   ]
  },
  {
   "cell_type": "code",
   "execution_count": null,
   "id": "5d66b53d",
   "metadata": {},
   "outputs": [],
   "source": [
    "match_df"
   ]
  },
  {
   "cell_type": "code",
   "execution_count": null,
   "id": "bab8ecac",
   "metadata": {},
   "outputs": [],
   "source": [
    "match_df=match_df[['match_id','city','winner','total_runs']]"
   ]
  },
  {
   "cell_type": "code",
   "execution_count": null,
   "id": "ef984c51",
   "metadata": {},
   "outputs": [],
   "source": [
    "match_df.shape"
   ]
  },
  {
   "cell_type": "code",
   "execution_count": null,
   "id": "3c60dc2d",
   "metadata": {},
   "outputs": [],
   "source": [
    "match_df.merge(delivery,on='match_id')"
   ]
  },
  {
   "cell_type": "code",
   "execution_count": null,
   "id": "c442ba3f",
   "metadata": {},
   "outputs": [],
   "source": [
    "delivery_df=match_df.merge(delivery,on='match_id')"
   ]
  },
  {
   "cell_type": "code",
   "execution_count": null,
   "id": "e7c1c495",
   "metadata": {},
   "outputs": [],
   "source": [
    "delivery_df=delivery_df[delivery_df['inning']==2]"
   ]
  },
  {
   "cell_type": "code",
   "execution_count": null,
   "id": "5b761bda",
   "metadata": {},
   "outputs": [],
   "source": [
    "delivery_df.shape"
   ]
  },
  {
   "cell_type": "code",
   "execution_count": null,
   "id": "3ab4581c",
   "metadata": {},
   "outputs": [],
   "source": [
    "delivery_df"
   ]
  },
  {
   "cell_type": "code",
   "execution_count": null,
   "id": "684b523b",
   "metadata": {},
   "outputs": [],
   "source": [
    "delivery_df['current_score']=delivery_df.groupby('match_id').cumsum()['total_runs_y']"
   ]
  },
  {
   "cell_type": "code",
   "execution_count": null,
   "id": "b8c59ed8",
   "metadata": {},
   "outputs": [],
   "source": [
    "delivery_df"
   ]
  },
  {
   "cell_type": "code",
   "execution_count": null,
   "id": "eaf2ce02",
   "metadata": {},
   "outputs": [],
   "source": [
    "delivery_df['runs_left']=delivery_df['total_runs_x']-delivery_df['current_score']"
   ]
  },
  {
   "cell_type": "code",
   "execution_count": null,
   "id": "107ac112",
   "metadata": {},
   "outputs": [],
   "source": [
    "delivery_df"
   ]
  },
  {
   "cell_type": "code",
   "execution_count": null,
   "id": "8caa7808",
   "metadata": {},
   "outputs": [],
   "source": [
    "126 - (delivery_df['over']*6 + delivery_df['ball'])"
   ]
  },
  {
   "cell_type": "code",
   "execution_count": null,
   "id": "09bfe9f8",
   "metadata": {},
   "outputs": [],
   "source": [
    "delivery_df['balls_left']=126 - (delivery_df['over']*6 + delivery_df['ball'])"
   ]
  },
  {
   "cell_type": "code",
   "execution_count": null,
   "id": "f280244d",
   "metadata": {},
   "outputs": [],
   "source": [
    "delivery_df"
   ]
  },
  {
   "cell_type": "code",
   "execution_count": null,
   "id": "051e9ba7",
   "metadata": {},
   "outputs": [],
   "source": [
    "delivery_df['player_dismissed']=delivery_df['player_dismissed'].fillna('0')\n",
    "delivery_df['player_dismissed']=delivery_df['player_dismissed'].apply(lambda x:x if x ==  '0' else '1')\n",
    "delivery_df['player_dismissed']=delivery_df['player_dismissed'].astype('int')\n",
    "wickets = delivery_df.groupby('match_id').cumsum()['player_dismissed'].values\n",
    "delivery_df['wickets']=10 -wickets\n",
    "delivery_df.head()"
   ]
  },
  {
   "cell_type": "code",
   "execution_count": null,
   "id": "b837266a",
   "metadata": {},
   "outputs": [],
   "source": [
    "delivery_df.tail()"
   ]
  },
  {
   "cell_type": "code",
   "execution_count": null,
   "id": "085766da",
   "metadata": {},
   "outputs": [],
   "source": [
    "# crr = runs/overs\n",
    "delivery_df['crr']=(delivery_df['current_score']*6)/(120-delivery_df['balls_left'])"
   ]
  },
  {
   "cell_type": "code",
   "execution_count": null,
   "id": "6c95e9d4",
   "metadata": {},
   "outputs": [],
   "source": [
    "delivery_df.head()"
   ]
  },
  {
   "cell_type": "code",
   "execution_count": null,
   "id": "d0395cf5",
   "metadata": {},
   "outputs": [],
   "source": [
    "#rrr \n",
    "delivery_df['rrr']=(delivery_df['runs_left']*6)/delivery_df['balls_left']"
   ]
  },
  {
   "cell_type": "code",
   "execution_count": null,
   "id": "0d9b63dd",
   "metadata": {},
   "outputs": [],
   "source": [
    "delivery_df"
   ]
  },
  {
   "cell_type": "code",
   "execution_count": null,
   "id": "a849a2b4",
   "metadata": {},
   "outputs": [],
   "source": [
    "delivery_df.shape"
   ]
  },
  {
   "cell_type": "code",
   "execution_count": null,
   "id": "ef64299c",
   "metadata": {},
   "outputs": [],
   "source": [
    "def result(row):\n",
    "    return 1 if row ['batting_team']== row['winner'] else 0"
   ]
  },
  {
   "cell_type": "code",
   "execution_count": null,
   "id": "2092e705",
   "metadata": {},
   "outputs": [],
   "source": [
    "delivery_df['result'] =delivery_df.apply(result,axis=1)"
   ]
  },
  {
   "cell_type": "code",
   "execution_count": null,
   "id": "7d009bd1",
   "metadata": {},
   "outputs": [],
   "source": [
    "delivery_df[['batting_team','bowling_team','city','runs_left','balls_left','wickets','total_runs_x','crr','rrr','result']]"
   ]
  },
  {
   "cell_type": "code",
   "execution_count": null,
   "id": "ebdcb1c2",
   "metadata": {},
   "outputs": [],
   "source": [
    "final_df=delivery_df[['batting_team','bowling_team','city','runs_left','balls_left','wickets','total_runs_x','crr','rrr','result']]"
   ]
  },
  {
   "cell_type": "code",
   "execution_count": null,
   "id": "b6d599e2",
   "metadata": {},
   "outputs": [],
   "source": [
    "final_df=final_df.sample(final_df.shape[0])"
   ]
  },
  {
   "cell_type": "code",
   "execution_count": null,
   "id": "e0f5ea7a",
   "metadata": {},
   "outputs": [],
   "source": [
    "final_df.sample()"
   ]
  },
  {
   "cell_type": "code",
   "execution_count": null,
   "id": "47699239",
   "metadata": {},
   "outputs": [],
   "source": [
    "final_df.isnull().sum()"
   ]
  },
  {
   "cell_type": "code",
   "execution_count": null,
   "id": "1215bd3f",
   "metadata": {},
   "outputs": [],
   "source": [
    "final_df.dropna(inplace=True)"
   ]
  },
  {
   "cell_type": "code",
   "execution_count": null,
   "id": "ed457a99",
   "metadata": {},
   "outputs": [],
   "source": [
    "final_df =final_df[final_df['balls_left'] !=0 ]"
   ]
  },
  {
   "cell_type": "code",
   "execution_count": null,
   "id": "2d91bcfd",
   "metadata": {},
   "outputs": [],
   "source": [
    "x = final_df.iloc[:, :-1]\n",
    "y = final_df.iloc[:,-1]\n",
    "from sklearn.model_selection import train_test_split\n",
    "x_train,x_test,y_train,y_test = train_test_split(x,y,test_size=0.2,random_state=1)"
   ]
  },
  {
   "cell_type": "code",
   "execution_count": null,
   "id": "bab876cf",
   "metadata": {},
   "outputs": [],
   "source": [
    "x_train"
   ]
  },
  {
   "cell_type": "code",
   "execution_count": null,
   "id": "5e3df588",
   "metadata": {},
   "outputs": [],
   "source": [
    "\n",
    "\n",
    "from sklearn.preprocessing import OneHotEncoder"
   ]
  },
  {
   "cell_type": "code",
   "execution_count": null,
   "id": "9990a24d",
   "metadata": {},
   "outputs": [],
   "source": [
    "from sklearn.compose import ColumnTransformer\n",
    "\n",
    "trf =ColumnTransformer([\n",
    "     ('trf',OneHotEncoder(sparse=False,drop='frist'),['batting_team','bowling_team','city'])\n",
    "                         \n",
    "]\n",
    ",remainder='passthrough')"
   ]
  },
  {
   "cell_type": "code",
   "execution_count": null,
   "id": "2076401b",
   "metadata": {},
   "outputs": [],
   "source": [
    "!pip install transformers\n",
    "from transformers import pipeline"
   ]
  },
  {
   "cell_type": "code",
   "execution_count": null,
   "id": "47548639",
   "metadata": {},
   "outputs": [],
   "source": [
    "!pip install transformers==2.5.0\n",
    "\n",
    "!pip install spacy-transformers==0.6.0"
   ]
  },
  {
   "cell_type": "code",
   "execution_count": null,
   "id": "0b03c0d7",
   "metadata": {},
   "outputs": [],
   "source": [
    "from sklearn.linear_model import LogisticRegression\n",
    "from sklearn.pipeline import pipeline"
   ]
  },
  {
   "cell_type": "code",
   "execution_count": null,
   "id": "a1bf5011",
   "metadata": {},
   "outputs": [],
   "source": [
    "pipe=pipeline(steps=[\n",
    "    ('step1',trf),\n",
    "    ('step2',LogisticRegression(solver='liblinear'))\n",
    "])"
   ]
  },
  {
   "cell_type": "code",
   "execution_count": null,
   "id": "04abea83",
   "metadata": {},
   "outputs": [],
   "source": [
    "pipe.fit(x_train,y_train)"
   ]
  },
  {
   "cell_type": "code",
   "execution_count": null,
   "id": "73b0bdeb",
   "metadata": {},
   "outputs": [],
   "source": [
    "x_train.describe()"
   ]
  },
  {
   "cell_type": "code",
   "execution_count": null,
   "id": "05eb1a7e",
   "metadata": {},
   "outputs": [],
   "source": [
    "y_pred = pipe.predict(x_test)"
   ]
  },
  {
   "cell_type": "code",
   "execution_count": null,
   "id": "55df6511",
   "metadata": {},
   "outputs": [],
   "source": [
    "from sklearn.metrics import accuracy_score\n",
    "accuracy_score(y_test,y_pred)"
   ]
  },
  {
   "cell_type": "code",
   "execution_count": null,
   "id": "d41900ac",
   "metadata": {},
   "outputs": [],
   "source": []
  },
  {
   "cell_type": "code",
   "execution_count": null,
   "id": "d23bcfbb",
   "metadata": {},
   "outputs": [],
   "source": []
  },
  {
   "cell_type": "code",
   "execution_count": null,
   "id": "27930560",
   "metadata": {},
   "outputs": [],
   "source": []
  },
  {
   "cell_type": "code",
   "execution_count": null,
   "id": "2a80e576",
   "metadata": {},
   "outputs": [],
   "source": []
  }
 ],
 "metadata": {
  "kernelspec": {
   "display_name": "Python 3 (ipykernel)",
   "language": "python",
   "name": "python3"
  },
  "language_info": {
   "codemirror_mode": {
    "name": "ipython",
    "version": 3
   },
   "file_extension": ".py",
   "mimetype": "text/x-python",
   "name": "python",
   "nbconvert_exporter": "python",
   "pygments_lexer": "ipython3",
   "version": "3.9.7"
  }
 },
 "nbformat": 4,
 "nbformat_minor": 5
}
